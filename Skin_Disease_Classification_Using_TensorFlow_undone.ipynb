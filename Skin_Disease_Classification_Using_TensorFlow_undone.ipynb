{
  "cells": [
    {
      "cell_type": "markdown",
      "metadata": {
        "id": "view-in-github",
        "colab_type": "text"
      },
      "source": [
        "<a href=\"https://colab.research.google.com/github/DanialQureshi26/ML-Projects/blob/main/Skin_Disease_Classification_Using_TensorFlow_undone.ipynb\" target=\"_parent\"><img src=\"https://colab.research.google.com/assets/colab-badge.svg\" alt=\"Open In Colab\"/></a>"
      ]
    },
    {
      "cell_type": "code",
      "execution_count": null,
      "metadata": {
        "id": "zZfiffm_D5Uq"
      },
      "outputs": [],
      "source": [
        "import os\n",
        "os.chdir('/content/drive/My Drive/skin disease')\n"
      ]
    },
    {
      "cell_type": "code",
      "execution_count": null,
      "metadata": {
        "id": "9SWcjE1MIDpj"
      },
      "outputs": [],
      "source": [
        "import os\n",
        "import numpy as np\n",
        "import tensorflow as tf\n",
        "from tensorflow.keras.preprocessing.image import ImageDataGenerator\n",
        "from tensorflow.keras.models import Sequential\n",
        "from tensorflow.keras.layers import Conv2D, MaxPooling2D, Flatten, Dense, Dropout"
      ]
    },
    {
      "cell_type": "code",
      "execution_count": null,
      "metadata": {
        "id": "36bun4EOHnfJ"
      },
      "outputs": [],
      "source": [
        "from tensorflow.keras.preprocessing.image import ImageDataGenerator\n",
        "\n",
        "# Define the directory containing your dataset\n",
        "dataset_dir = '/content/drive/My Drive/skin disease'\n",
        "\n",
        "# Define image dimensions and batch size\n",
        "img_width, img_height = 224, 224\n",
        "batch_size = 32\n",
        "\n",
        "\n"
      ]
    },
    {
      "cell_type": "code",
      "execution_count": null,
      "metadata": {
        "id": "mic2uDB2IoCz"
      },
      "outputs": [],
      "source": [
        "# Create an ImageDataGenerator instance for loading and preprocessing images\n",
        "datagen = ImageDataGenerator(\n",
        "    rescale=1./255,  # Rescale pixel values to [0, 1]\n",
        ")\n"
      ]
    },
    {
      "cell_type": "code",
      "execution_count": null,
      "metadata": {
        "colab": {
          "base_uri": "https://localhost:8080/"
        },
        "id": "u2EOA0PAJwnF",
        "outputId": "fb6383e3-82c0-48fe-c0a1-2e58fee5b5f2"
      },
      "outputs": [
        {
          "output_type": "stream",
          "name": "stdout",
          "text": [
            "Found 924 images belonging to 8 classes.\n"
          ]
        }
      ],
      "source": [
        "# Load and preprocess the images\n",
        "data_generator = datagen.flow_from_directory(\n",
        "    dataset_dir,\n",
        "    target_size=(img_width, img_height),\n",
        "    batch_size=batch_size,\n",
        "    class_mode='categorical',\n",
        ")"
      ]
    },
    {
      "cell_type": "code",
      "execution_count": null,
      "metadata": {
        "id": "lhsLiwDXKM7d"
      },
      "outputs": [],
      "source": [
        "# Split the dataset into training and test sets\n",
        "from sklearn.model_selection import train_test_split\n",
        "X, y = next(data_generator)\n",
        "X_train, X_test, y_train, y_test = train_test_split(X, y, test_size=0.2, random_state=42)\n"
      ]
    },
    {
      "cell_type": "code",
      "execution_count": null,
      "metadata": {
        "id": "JVAsKgOiKsbv"
      },
      "outputs": [],
      "source": [
        "model = Sequential([\n",
        "    Conv2D(32, (3, 3), activation='relu', input_shape=(img_width, img_height, 3)),\n",
        "    MaxPooling2D((2, 2)),\n",
        "    Conv2D(64, (3, 3), activation='relu'),\n",
        "    MaxPooling2D((2, 2)),\n",
        "    Conv2D(128, (3, 3), activation='relu'),\n",
        "    MaxPooling2D((2, 2)),\n",
        "    Conv2D(128, (3, 3), activation='relu'),\n",
        "    MaxPooling2D((2, 2)),\n",
        "    Flatten(),\n",
        "    Dense(512, activation='relu'),\n",
        "    Dropout(0.5),\n",
        "    Dense(8, activation='softmax')\n",
        "])"
      ]
    },
    {
      "cell_type": "code",
      "execution_count": null,
      "metadata": {
        "id": "p1cmkWx0MNyU"
      },
      "outputs": [],
      "source": [
        "# Compile the model\n",
        "model.compile(optimizer='adam',\n",
        "              loss='categorical_crossentropy',\n",
        "              metrics=['accuracy'])"
      ]
    },
    {
      "cell_type": "code",
      "execution_count": null,
      "metadata": {
        "colab": {
          "base_uri": "https://localhost:8080/"
        },
        "id": "wLluRk-yMRdB",
        "outputId": "aef98dbb-d74a-4b29-b9bc-ab698dd92a8e"
      },
      "outputs": [
        {
          "output_type": "stream",
          "name": "stdout",
          "text": [
            "Epoch 1/10\n",
            "1/1 [==============================] - 8s 8s/step - loss: 2.0986 - accuracy: 0.0800 - val_loss: 2.6152 - val_accuracy: 0.1429\n",
            "Epoch 2/10\n",
            "1/1 [==============================] - 0s 76ms/step - loss: 2.2969 - accuracy: 0.2400 - val_loss: 1.9796 - val_accuracy: 0.2857\n",
            "Epoch 3/10\n",
            "1/1 [==============================] - 0s 71ms/step - loss: 2.0542 - accuracy: 0.1600 - val_loss: 2.0340 - val_accuracy: 0.2857\n",
            "Epoch 4/10\n",
            "1/1 [==============================] - 0s 74ms/step - loss: 2.0205 - accuracy: 0.0800 - val_loss: 2.0492 - val_accuracy: 0.2857\n",
            "Epoch 5/10\n",
            "1/1 [==============================] - 0s 72ms/step - loss: 2.0326 - accuracy: 0.2800 - val_loss: 2.0621 - val_accuracy: 0.1429\n",
            "Epoch 6/10\n",
            "1/1 [==============================] - 0s 74ms/step - loss: 1.9568 - accuracy: 0.2800 - val_loss: 2.1038 - val_accuracy: 0.1429\n",
            "Epoch 7/10\n",
            "1/1 [==============================] - 0s 79ms/step - loss: 1.9587 - accuracy: 0.2400 - val_loss: 2.0783 - val_accuracy: 0.1429\n",
            "Epoch 8/10\n",
            "1/1 [==============================] - 0s 85ms/step - loss: 1.9249 - accuracy: 0.2000 - val_loss: 2.0237 - val_accuracy: 0.1429\n",
            "Epoch 9/10\n",
            "1/1 [==============================] - 0s 72ms/step - loss: 1.8811 - accuracy: 0.2800 - val_loss: 2.0218 - val_accuracy: 0.1429\n",
            "Epoch 10/10\n",
            "1/1 [==============================] - 0s 73ms/step - loss: 1.7938 - accuracy: 0.3600 - val_loss: 2.0958 - val_accuracy: 0.1429\n"
          ]
        }
      ],
      "source": [
        "# Train the model\n",
        "history = model.fit(\n",
        "    X_train, y_train,\n",
        "    batch_size=batch_size,\n",
        "    epochs=10,\n",
        "    validation_data=(X_test, y_test)\n",
        ")"
      ]
    },
    {
      "cell_type": "code",
      "execution_count": null,
      "metadata": {
        "colab": {
          "base_uri": "https://localhost:8080/",
          "height": 410
        },
        "id": "Ws-ladCNMUnS",
        "outputId": "7b1b95b2-9153-433d-bbb4-74959a078394"
      },
      "outputs": [
        {
          "output_type": "display_data",
          "data": {
            "text/plain": [
              "<Figure size 1200x400 with 2 Axes>"
            ],
            "image/png": "[encoded data removed]"
          },
          "metadata": {}
        }
      ],
      "source": [
        "import matplotlib.pyplot as plt\n",
        "\n",
        "# Get training history\n",
        "train_loss = history.history['loss']\n",
        "val_loss = history.history['val_loss']\n",
        "train_acc = history.history['accuracy']\n",
        "val_acc = history.history['val_accuracy']\n",
        "epochs = range(1, len(train_loss) + 1)\n",
        "\n",
        "# Plot loss\n",
        "plt.figure(figsize=(12, 4))\n",
        "plt.subplot(1, 2, 1)\n",
        "plt.plot(epochs, train_loss, 'b-', label='Training Loss')\n",
        "plt.plot(epochs, val_loss, 'r-', label='Validation Loss')\n",
        "plt.title('Training and Validation Loss')\n",
        "plt.xlabel('Epochs')\n",
        "plt.ylabel('Loss')\n",
        "plt.legend()\n",
        "\n",
        "# Plot accuracy\n",
        "plt.subplot(1, 2, 2)\n",
        "plt.plot(epochs, train_acc, 'b-', label='Training Accuracy')\n",
        "plt.plot(epochs, val_acc, 'r-', label='Validation Accuracy')\n",
        "plt.title('Training and Validation Accuracy')\n",
        "plt.xlabel('Epochs')\n",
        "plt.ylabel('Accuracy')\n",
        "plt.legend()\n",
        "\n",
        "plt.show()\n"
      ]
    },
    {
      "cell_type": "code",
      "execution_count": null,
      "metadata": {
        "colab": {
          "base_uri": "https://localhost:8080/"
        },
        "id": "OFv0VNXJMwK3",
        "outputId": "c3686f6b-6782-40c5-eba4-a0a59ea7000a"
      },
      "outputs": [
        {
          "output_type": "stream",
          "name": "stdout",
          "text": [
            "1/1 [==============================] - 0s 28ms/step - loss: 2.0958 - accuracy: 0.1429\n",
            "Test Loss: 2.0957753658294678\n",
            "Test Accuracy: 0.1428571492433548\n"
          ]
        }
      ],
      "source": [
        "# Evaluate the model on the test set\n",
        "test_loss, test_accuracy = model.evaluate(X_test, y_test)\n",
        "\n",
        "print(\"Test Loss:\", test_loss)\n",
        "print(\"Test Accuracy:\", test_accuracy)\n"
      ]
    },
    {
      "cell_type": "code",
      "execution_count": null,
      "metadata": {
        "id": "4oOmjMYXNF1f"
      },
      "outputs": [],
      "source": [
        "# Define the directory containing your dataset\n",
        "dataset_dir = '/content/drive/My Drive/skin disease'\n",
        "\n",
        "# Define image dimensions and batch size\n",
        "img_width, img_height = 224, 224\n",
        "batch_size = 32"
      ]
    },
    {
      "cell_type": "code",
      "execution_count": null,
      "metadata": {
        "id": "gZTkgo8ENvBc"
      },
      "outputs": [],
      "source": [
        "# Create an ImageDataGenerator instance for data augmentation\n",
        "datagen = ImageDataGenerator(\n",
        "    rescale=1./255,\n",
        "    rotation_range=20,\n",
        "    width_shift_range=0.2,\n",
        "    height_shift_range=0.2,\n",
        "    shear_range=0.2,\n",
        "    zoom_range=0.2,\n",
        "    horizontal_flip=True,\n",
        ")"
      ]
    },
    {
      "cell_type": "code",
      "execution_count": null,
      "metadata": {
        "colab": {
          "base_uri": "https://localhost:8080/"
        },
        "id": "dD6ARoRhOree",
        "outputId": "f869dae5-e454-455d-9a43-934acb4c1f4b"
      },
      "outputs": [
        {
          "output_type": "stream",
          "name": "stdout",
          "text": [
            "Found 924 images belonging to 8 classes.\n"
          ]
        }
      ],
      "source": [
        "# Load and preprocess the images\n",
        "data_generator = datagen.flow_from_directory(\n",
        "    dataset_dir,\n",
        "    target_size=(img_width, img_height),\n",
        "    batch_size=batch_size,\n",
        "    class_mode='categorical',\n",
        ")\n"
      ]
    },
    {
      "cell_type": "code",
      "source": [
        "# Split the dataset into training and test sets\n",
        "X, y = next(data_generator)\n",
        "X_train, X_test, y_train, y_test = train_test_split(X, y, test_size=0.2, random_state=42)\n"
      ],
      "metadata": {
        "id": "3OHGOtwHQRYt"
      },
      "execution_count": null,
      "outputs": []
    },
    {
      "cell_type": "code",
      "source": [
        "# Build the CNN model\n",
        "model = Sequential([\n",
        "    Conv2D(32, (3, 3), activation='relu', input_shape=(img_width, img_height, 3)),\n",
        "    MaxPooling2D((2, 2)),\n",
        "    Conv2D(64, (3, 3), activation='relu'),\n",
        "    MaxPooling2D((2, 2)),\n",
        "    Conv2D(128, (3, 3), activation='relu'),\n",
        "    MaxPooling2D((2, 2)),\n",
        "    Conv2D(128, (3, 3), activation='relu'),\n",
        "    MaxPooling2D((2, 2)),\n",
        "    Flatten(),\n",
        "    Dense(512, activation='relu'),\n",
        "    Dropout(0.5),\n",
        "    Dense(8, activation='softmax')\n",
        "])"
      ],
      "metadata": {
        "id": "rLLKPA9yQVH9"
      },
      "execution_count": null,
      "outputs": []
    },
    {
      "cell_type": "code",
      "source": [
        "# Compile the model\n",
        "model.compile(optimizer='adam',\n",
        "              loss='categorical_crossentropy',\n",
        "              metrics=['accuracy'])"
      ],
      "metadata": {
        "id": "JvknlItdQbTl"
      },
      "execution_count": null,
      "outputs": []
    },
    {
      "cell_type": "code",
      "source": [
        "# Train the model\n",
        "history = model.fit(\n",
        "    X_train, y_train,\n",
        "    batch_size=batch_size,\n",
        "    epochs=10,\n",
        "    validation_data=(X_test, y_test)\n",
        ")"
      ],
      "metadata": {
        "colab": {
          "base_uri": "https://localhost:8080/"
        },
        "id": "I05SAEHTQdxX",
        "outputId": "21720355-c62c-4969-83f8-57283a5ff84b"
      },
      "execution_count": null,
      "outputs": [
        {
          "output_type": "stream",
          "name": "stdout",
          "text": [
            "Epoch 1/10\n",
            "1/1 [==============================] - 2s 2s/step - loss: 2.0738 - accuracy: 0.1600 - val_loss: 2.4327 - val_accuracy: 0.1429\n",
            "Epoch 2/10\n",
            "1/1 [==============================] - 0s 90ms/step - loss: 2.2623 - accuracy: 0.1600 - val_loss: 2.1898 - val_accuracy: 0.0000e+00\n",
            "Epoch 3/10\n",
            "1/1 [==============================] - 0s 101ms/step - loss: 2.0729 - accuracy: 0.1200 - val_loss: 2.1576 - val_accuracy: 0.0000e+00\n",
            "Epoch 4/10\n",
            "1/1 [==============================] - 0s 90ms/step - loss: 1.9907 - accuracy: 0.2000 - val_loss: 2.1672 - val_accuracy: 0.0000e+00\n",
            "Epoch 5/10\n",
            "1/1 [==============================] - 0s 94ms/step - loss: 1.9528 - accuracy: 0.2800 - val_loss: 2.2505 - val_accuracy: 0.0000e+00\n",
            "Epoch 6/10\n",
            "1/1 [==============================] - 0s 88ms/step - loss: 1.8664 - accuracy: 0.2000 - val_loss: 2.2389 - val_accuracy: 0.0000e+00\n",
            "Epoch 7/10\n",
            "1/1 [==============================] - 0s 84ms/step - loss: 1.6835 - accuracy: 0.6000 - val_loss: 2.2331 - val_accuracy: 0.0000e+00\n",
            "Epoch 8/10\n",
            "1/1 [==============================] - 0s 78ms/step - loss: 1.5387 - accuracy: 0.5200 - val_loss: 2.6240 - val_accuracy: 0.0000e+00\n",
            "Epoch 9/10\n",
            "1/1 [==============================] - 0s 73ms/step - loss: 1.2831 - accuracy: 0.6400 - val_loss: 2.8260 - val_accuracy: 0.0000e+00\n",
            "Epoch 10/10\n",
            "1/1 [==============================] - 0s 73ms/step - loss: 1.0159 - accuracy: 0.6800 - val_loss: 3.0289 - val_accuracy: 0.0000e+00\n"
          ]
        }
      ]
    },
    {
      "cell_type": "code",
      "source": [
        "# Evaluate the model on the test set\n",
        "test_loss, test_accuracy = model.evaluate(X_test, y_test)\n",
        "print(\"Test Loss:\", test_loss)\n",
        "print(\"Test Accuracy:\", test_accuracy)"
      ],
      "metadata": {
        "colab": {
          "base_uri": "https://localhost:8080/"
        },
        "id": "keM7bzBEQgI6",
        "outputId": "08e2ea22-0061-408a-ca45-63c2f17b637c"
      },
      "execution_count": null,
      "outputs": [
        {
          "output_type": "stream",
          "name": "stdout",
          "text": [
            "1/1 [==============================] - 0s 43ms/step - loss: 3.0289 - accuracy: 0.0000e+00\n",
            "Test Loss: 3.0288760662078857\n",
            "Test Accuracy: 0.0\n"
          ]
        }
      ]
    },
    {
      "cell_type": "code",
      "source": [
        "import os\n",
        "import numpy as np\n",
        "import pandas as pd\n",
        "import tensorflow as tf\n",
        "from tensorflow.keras.preprocessing.image import ImageDataGenerator\n",
        "from tensorflow.keras.applications import VGG16\n",
        "from tensorflow.keras.models import Sequential\n",
        "from tensorflow.keras.layers import Conv2D, MaxPooling2D, Flatten, Dense, Dropout\n",
        "from sklearn.model_selection import train_test_split\n",
        "from sklearn.preprocessing import LabelBinarizer\n",
        "\n",
        "# Mount Google Drive to access the dataset\n",
        "from google.colab import drive\n",
        "drive.mount('/content/drive')\n",
        "\n",
        "# Define the directory containing your dataset\n",
        "dataset_dir = '/content/drive/My Drive/skin disease'\n",
        "\n",
        "# Define image dimensions and batch size\n",
        "img_width, img_height = 224, 224\n",
        "batch_size = 32\n",
        "\n",
        "# Create an ImageDataGenerator instance for data augmentation\n",
        "datagen = ImageDataGenerator(\n",
        "    rescale=1./255,\n",
        "    rotation_range=20,\n",
        "    width_shift_range=0.2,\n",
        "    height_shift_range=0.2,\n",
        "    shear_range=0.2,\n",
        "    zoom_range=0.2,\n",
        "    horizontal_flip=True,\n",
        ")\n",
        "\n",
        "# Get the list of all image file paths and their corresponding labels\n",
        "data = []\n",
        "labels = []\n",
        "for category in os.listdir(dataset_dir):\n",
        "    category_path = os.path.join(dataset_dir, category)\n",
        "    for img_file in os.listdir(category_path):\n",
        "        img_path = os.path.join(category_path, img_file)\n",
        "        data.append(img_path)\n",
        "        labels.append(category)\n",
        "\n",
        "# Convert to DataFrame\n",
        "df = pd.DataFrame({\n",
        "    'filename': data,\n",
        "    'class': labels\n",
        "})\n",
        "\n",
        "# Split the dataset into training and test sets\n",
        "train_df, test_df = train_test_split(df, test_size=0.2, random_state=42, stratify=df['class'])\n",
        "\n",
        "# Create data generators\n",
        "train_generator = datagen.flow_from_dataframe(\n",
        "    train_df,\n",
        "    x_col='filename',\n",
        "    y_col='class',\n",
        "    target_size=(img_width, img_height),\n",
        "    batch_size=batch_size,\n",
        "    class_mode='categorical'\n",
        ")\n",
        "\n",
        "test_datagen = ImageDataGenerator(rescale=1./255)\n",
        "test_generator = test_datagen.flow_from_dataframe(\n",
        "    test_df,\n",
        "    x_col='filename',\n",
        "    y_col='class',\n",
        "    target_size=(img_width, img_height),\n",
        "    batch_size=batch_size,\n",
        "    class_mode='categorical'\n",
        ")\n",
        "\n",
        "# Load the pre-trained VGG16 model without the top layers\n",
        "base_model = VGG16(weights='imagenet', include_top=False, input_shape=(img_width, img_height, 3))\n",
        "\n",
        "# Freeze the layers in the base model\n",
        "for layer in base_model.layers:\n",
        "    layer.trainable = False\n",
        "\n",
        "# Create a new model on top of the pre-trained base model\n",
        "model = Sequential([\n",
        "    base_model,\n",
        "    Flatten(),\n",
        "    Dense(512, activation='relu'),\n",
        "    Dropout(0.5),\n",
        "    Dense(len(os.listdir(dataset_dir)), activation='softmax')\n",
        "])\n",
        "\n",
        "# Compile the model\n",
        "model.compile(optimizer='adam', loss='categorical_crossentropy', metrics=['accuracy'])\n",
        "\n",
        "# Train the model\n",
        "history = model.fit(\n",
        "    train_generator,\n",
        "    steps_per_epoch=train_generator.samples // batch_size,\n",
        "    epochs=10,\n",
        "    validation_data=test_generator,\n",
        "    validation_steps=test_generator.samples // batch_size\n",
        ")\n",
        "\n",
        "# Evaluate the model on the test set\n",
        "test_loss, test_accuracy = model.evaluate(test_generator)\n",
        "print(\"Test Loss:\", test_loss)\n",
        "print(\"Test Accuracy:\", test_accuracy)\n"
      ],
      "metadata": {
        "colab": {
          "base_uri": "https://localhost:8080/"
        },
        "id": "C4RlY_4TQkDW",
        "outputId": "e615fae9-16bf-492c-92be-df664dee4242"
      },
      "execution_count": null,
      "outputs": [
        {
          "output_type": "stream",
          "name": "stdout",
          "text": [
            "Drive already mounted at /content/drive; to attempt to forcibly remount, call drive.mount(\"/content/drive\", force_remount=True).\n",
            "Found 739 validated image filenames belonging to 8 classes.\n",
            "Found 185 validated image filenames belonging to 8 classes.\n"
          ]
        },
        {
          "output_type": "stream",
          "name": "stderr",
          "text": [
            "/usr/local/lib/python3.10/dist-packages/keras/src/preprocessing/image.py:1137: UserWarning: Found 1 invalid image filename(s) in x_col=\"filename\". These filename(s) will be ignored.\n",
            "  warnings.warn(\n"
          ]
        },
        {
          "output_type": "stream",
          "name": "stdout",
          "text": [
            "Downloading data from https://storage.googleapis.com/tensorflow/keras-applications/vgg16/vgg16_weights_tf_dim_ordering_tf_kernels_notop.h5\n",
            "58889256/58889256 [==============================] - 2s 0us/step\n",
            "Epoch 1/10\n",
            "23/23 [==============================] - 257s 11s/step - loss: 4.8246 - accuracy: 0.2249 - val_loss: 1.5773 - val_accuracy: 0.3625\n",
            "Epoch 2/10\n",
            "23/23 [==============================] - 13s 571ms/step - loss: 1.6117 - accuracy: 0.4045 - val_loss: 1.2471 - val_accuracy: 0.6438\n",
            "Epoch 3/10\n",
            "23/23 [==============================] - 13s 563ms/step - loss: 1.3584 - accuracy: 0.4880 - val_loss: 0.9964 - val_accuracy: 0.6750\n",
            "Epoch 4/10\n",
            "23/23 [==============================] - 14s 590ms/step - loss: 1.2885 - accuracy: 0.5248 - val_loss: 0.9664 - val_accuracy: 0.6687\n",
            "Epoch 5/10\n",
            "23/23 [==============================] - 16s 705ms/step - loss: 1.1637 - accuracy: 0.5969 - val_loss: 0.9148 - val_accuracy: 0.6750\n",
            "Epoch 6/10\n",
            "23/23 [==============================] - 15s 671ms/step - loss: 1.1945 - accuracy: 0.5714 - val_loss: 0.9184 - val_accuracy: 0.7250\n",
            "Epoch 7/10\n",
            "23/23 [==============================] - 13s 562ms/step - loss: 1.1563 - accuracy: 0.5955 - val_loss: 0.8810 - val_accuracy: 0.7375\n",
            "Epoch 8/10\n",
            "23/23 [==============================] - 14s 617ms/step - loss: 1.0741 - accuracy: 0.6181 - val_loss: 0.8302 - val_accuracy: 0.7437\n",
            "Epoch 9/10\n",
            "23/23 [==============================] - 13s 554ms/step - loss: 0.9862 - accuracy: 0.6620 - val_loss: 0.7330 - val_accuracy: 0.7563\n",
            "Epoch 10/10\n",
            "23/23 [==============================] - 13s 570ms/step - loss: 0.9626 - accuracy: 0.6450 - val_loss: 0.7276 - val_accuracy: 0.7563\n",
            "6/6 [==============================] - 7s 1s/step - loss: 0.7145 - accuracy: 0.7676\n",
            "Test Loss: 0.7144650816917419\n",
            "Test Accuracy: 0.7675675749778748\n"
          ]
        }
      ]
    },
    {
      "cell_type": "code",
      "source": [
        "import os\n",
        "import numpy as np\n",
        "import pandas as pd\n",
        "import tensorflow as tf\n",
        "from tensorflow.keras.preprocessing.image import ImageDataGenerator\n",
        "from tensorflow.keras.applications import VGG16\n",
        "from tensorflow.keras.models import Sequential\n",
        "from tensorflow.keras.layers import Conv2D, MaxPooling2D, Flatten, Dense, Dropout\n",
        "from sklearn.model_selection import train_test_split\n",
        "from sklearn.preprocessing import LabelBinarizer\n",
        "\n",
        "# Mount Google Drive to access the dataset\n",
        "from google.colab import drive\n",
        "drive.mount('/content/drive')\n",
        "\n",
        "# Define the directory containing your dataset\n",
        "dataset_dir = '/content/drive/My Drive/skin disease'\n",
        "\n",
        "# Define image dimensions and batch size\n",
        "img_width, img_height = 224, 224\n",
        "batch_size = 32\n",
        "\n",
        "# Create an ImageDataGenerator instance for data augmentation\n",
        "datagen = ImageDataGenerator(\n",
        "    rescale=1./255,\n",
        "    rotation_range=30,\n",
        "    width_shift_range=0.3,\n",
        "    height_shift_range=0.3,\n",
        "    shear_range=0.3,\n",
        "    zoom_range=0.3,\n",
        "    horizontal_flip=True,\n",
        ")\n",
        "\n",
        "# Get the list of all image file paths and their corresponding labels\n",
        "data = []\n",
        "labels = []\n",
        "for category in os.listdir(dataset_dir):\n",
        "    category_path = os.path.join(dataset_dir, category)\n",
        "    for img_file in os.listdir(category_path):\n",
        "        img_path = os.path.join(category_path, img_file)\n",
        "        data.append(img_path)\n",
        "        labels.append(category)\n",
        "\n",
        "# Convert to DataFrame\n",
        "df = pd.DataFrame({\n",
        "    'filename': data,\n",
        "    'class': labels\n",
        "})\n",
        "\n",
        "# Split the dataset into training and test sets\n",
        "train_df, test_df = train_test_split(df, test_size=0.2, random_state=42, stratify=df['class'])\n",
        "\n",
        "# Create data generators\n",
        "train_generator = datagen.flow_from_dataframe(\n",
        "    train_df,\n",
        "    x_col='filename',\n",
        "    y_col='class',\n",
        "    target_size=(img_width, img_height),\n",
        "    batch_size=batch_size,\n",
        "    class_mode='categorical'\n",
        ")\n",
        "\n",
        "test_datagen = ImageDataGenerator(rescale=1./255)\n",
        "test_generator = test_datagen.flow_from_dataframe(\n",
        "    test_df,\n",
        "    x_col='filename',\n",
        "    y_col='class',\n",
        "    target_size=(img_width, img_height),\n",
        "    batch_size=batch_size,\n",
        "    class_mode='categorical'\n",
        ")\n",
        "\n",
        "# Load the pre-trained VGG16 model without the top layers\n",
        "base_model = VGG16(weights='imagenet', include_top=False, input_shape=(img_width, img_height, 3))\n",
        "\n",
        "# Freeze the layers in the base model\n",
        "for layer in base_model.layers:\n",
        "    layer.trainable = False\n",
        "\n",
        "# Create a new model on top of the pre-trained base model\n",
        "model = Sequential([\n",
        "    base_model,\n",
        "    Flatten(),\n",
        "    Dense(512, activation='relu'),\n",
        "    Dropout(0.5),\n",
        "    Dense(len(os.listdir(dataset_dir)), activation='softmax')\n",
        "])\n",
        "\n",
        "# Compile the model\n",
        "model.compile(optimizer='adam', loss='categorical_crossentropy', metrics=['accuracy'])\n",
        "\n",
        "# Train the model\n",
        "history = model.fit(\n",
        "    train_generator,\n",
        "    steps_per_epoch=train_generator.samples // batch_size,\n",
        "    epochs=10,\n",
        "    validation_data=test_generator,\n",
        "    validation_steps=test_generator.samples // batch_size\n",
        ")\n",
        "\n",
        "# Evaluate the model on the test set\n",
        "test_loss, test_accuracy = model.evaluate(test_generator)\n",
        "print(\"Test Loss:\", test_loss)\n",
        "print(\"Test Accuracy:\", test_accuracy)\n"
      ],
      "metadata": {
        "id": "p-JBYejMQ6Wc",
        "colab": {
          "base_uri": "https://localhost:8080/"
        },
        "outputId": "3b9e343b-3fe9-4851-853a-12e6154a14b9"
      },
      "execution_count": 21,
      "outputs": [
        {
          "output_type": "stream",
          "name": "stdout",
          "text": [
            "Drive already mounted at /content/drive; to attempt to forcibly remount, call drive.mount(\"/content/drive\", force_remount=True).\n",
            "Found 739 validated image filenames belonging to 8 classes.\n",
            "Found 185 validated image filenames belonging to 8 classes.\n"
          ]
        },
        {
          "output_type": "stream",
          "name": "stderr",
          "text": [
            "/usr/local/lib/python3.10/dist-packages/keras/src/preprocessing/image.py:1137: UserWarning: Found 1 invalid image filename(s) in x_col=\"filename\". These filename(s) will be ignored.\n",
            "  warnings.warn(\n"
          ]
        },
        {
          "output_type": "stream",
          "name": "stdout",
          "text": [
            "Epoch 1/10\n",
            "23/23 [==============================] - 23s 838ms/step - loss: 5.4527 - accuracy: 0.1924 - val_loss: 1.6074 - val_accuracy: 0.4938\n",
            "Epoch 2/10\n",
            "23/23 [==============================] - 13s 581ms/step - loss: 1.7414 - accuracy: 0.3777 - val_loss: 1.3518 - val_accuracy: 0.6375\n",
            "Epoch 3/10\n",
            "23/23 [==============================] - 14s 618ms/step - loss: 1.6395 - accuracy: 0.3734 - val_loss: 1.2362 - val_accuracy: 0.6438\n",
            "Epoch 4/10\n",
            "23/23 [==============================] - 14s 595ms/step - loss: 1.5689 - accuracy: 0.4328 - val_loss: 1.1675 - val_accuracy: 0.6750\n",
            "Epoch 5/10\n",
            "23/23 [==============================] - 14s 596ms/step - loss: 1.4234 - accuracy: 0.4936 - val_loss: 1.1710 - val_accuracy: 0.6687\n",
            "Epoch 6/10\n",
            "23/23 [==============================] - 14s 603ms/step - loss: 1.3812 - accuracy: 0.4922 - val_loss: 1.0624 - val_accuracy: 0.6875\n",
            "Epoch 7/10\n",
            "23/23 [==============================] - 13s 560ms/step - loss: 1.3820 - accuracy: 0.4781 - val_loss: 0.9896 - val_accuracy: 0.7188\n",
            "Epoch 8/10\n",
            "23/23 [==============================] - 15s 654ms/step - loss: 1.3059 - accuracy: 0.5177 - val_loss: 1.0368 - val_accuracy: 0.6313\n",
            "Epoch 9/10\n",
            "23/23 [==============================] - 14s 591ms/step - loss: 1.3088 - accuracy: 0.5276 - val_loss: 0.9109 - val_accuracy: 0.7250\n",
            "Epoch 10/10\n",
            "23/23 [==============================] - 13s 580ms/step - loss: 1.2945 - accuracy: 0.5304 - val_loss: 0.8603 - val_accuracy: 0.6875\n",
            "6/6 [==============================] - 1s 156ms/step - loss: 0.8998 - accuracy: 0.6811\n",
            "Test Loss: 0.8998053669929504\n",
            "Test Accuracy: 0.6810810565948486\n"
          ]
        }
      ]
    },
    {
      "cell_type": "code",
      "source": [
        "import os\n",
        "import numpy as np\n",
        "import pandas as pd\n",
        "import tensorflow as tf\n",
        "from tensorflow.keras.preprocessing.image import ImageDataGenerator\n",
        "from tensorflow.keras.applications import VGG16\n",
        "from tensorflow.keras.models import Sequential\n",
        "from tensorflow.keras.layers import Conv2D, MaxPooling2D, Flatten, Dense, Dropout\n",
        "from sklearn.model_selection import train_test_split\n",
        "from sklearn.preprocessing import LabelBinarizer\n",
        "\n",
        "# Mount Google Drive to access the dataset\n",
        "from google.colab import drive\n",
        "drive.mount('/content/drive')\n",
        "\n",
        "# Define the directory containing your dataset\n",
        "dataset_dir = '/content/drive/My Drive/skin disease'\n",
        "\n",
        "# Define image dimensions and batch size\n",
        "img_width, img_height = 224, 224\n",
        "batch_size = 32\n",
        "\n",
        "# Create an ImageDataGenerator instance for data augmentation\n",
        "datagen = ImageDataGenerator(\n",
        "    rescale=1./255,\n",
        "    rotation_range=30,\n",
        "    width_shift_range=0.3,\n",
        "    height_shift_range=0.3,\n",
        "    shear_range=0.3,\n",
        "    zoom_range=0.3,\n",
        "    horizontal_flip=True,\n",
        ")\n",
        "\n",
        "# Get the list of all image file paths and their corresponding labels\n",
        "data = []\n",
        "labels = []\n",
        "for category in os.listdir(dataset_dir):\n",
        "    category_path = os.path.join(dataset_dir, category)\n",
        "    for img_file in os.listdir(category_path):\n",
        "        img_path = os.path.join(category_path, img_file)\n",
        "        data.append(img_path)\n",
        "        labels.append(category)\n",
        "\n",
        "# Convert to DataFrame\n",
        "df = pd.DataFrame({\n",
        "    'filename': data,\n",
        "    'class': labels\n",
        "})\n",
        "\n",
        "# Split the dataset into training and test sets\n",
        "train_df, test_df = train_test_split(df, test_size=0.2, random_state=42, stratify=df['class'])\n",
        "\n",
        "# Create data generators\n",
        "train_generator = datagen.flow_from_dataframe(\n",
        "    train_df,\n",
        "    x_col='filename',\n",
        "    y_col='class',\n",
        "    target_size=(img_width, img_height),\n",
        "    batch_size=batch_size,\n",
        "    class_mode='categorical'\n",
        ")\n",
        "\n",
        "test_datagen = ImageDataGenerator(rescale=1./255)\n",
        "test_generator = test_datagen.flow_from_dataframe(\n",
        "    test_df,\n",
        "    x_col='filename',\n",
        "    y_col='class',\n",
        "    target_size=(img_width, img_height),\n",
        "    batch_size=batch_size,\n",
        "    class_mode='categorical'\n",
        ")\n",
        "\n",
        "# Load the pre-trained VGG16 model without the top layers\n",
        "base_model = VGG16(weights='imagenet', include_top=False, input_shape=(img_width, img_height, 3))\n",
        "\n",
        "# Freeze the layers in the base model\n",
        "for layer in base_model.layers:\n",
        "    layer.trainable = False\n",
        "\n",
        "# Create a new model on top of the pre-trained base model\n",
        "model = Sequential([\n",
        "    base_model,\n",
        "    Flatten(),\n",
        "    Dense(512, activation='relu'),\n",
        "    Dropout(0.5),\n",
        "    Dense(len(os.listdir(dataset_dir)), activation='softmax')\n",
        "])\n",
        "\n",
        "# Compile the model\n",
        "model.compile(optimizer='adam', loss='categorical_crossentropy', metrics=['accuracy'])\n",
        "\n",
        "# Train the model\n",
        "history = model.fit(\n",
        "    train_generator,\n",
        "    steps_per_epoch=train_generator.samples // batch_size,\n",
        "    epochs=20,\n",
        "    validation_data=test_generator,\n",
        "    validation_steps=test_generator.samples // batch_size\n",
        ")\n",
        "\n",
        "# Evaluate the model on the test set\n",
        "test_loss, test_accuracy = model.evaluate(test_generator)\n",
        "print(\"Test Loss:\", test_loss)\n",
        "print(\"Test Accuracy:\", test_accuracy)\n"
      ],
      "metadata": {
        "colab": {
          "base_uri": "https://localhost:8080/"
        },
        "id": "sjlwVtpITi6_",
        "outputId": "2c438f65-ad58-4486-d35a-0639ef16ba61"
      },
      "execution_count": 22,
      "outputs": [
        {
          "output_type": "stream",
          "name": "stdout",
          "text": [
            "Drive already mounted at /content/drive; to attempt to forcibly remount, call drive.mount(\"/content/drive\", force_remount=True).\n",
            "Found 739 validated image filenames belonging to 8 classes.\n",
            "Found 185 validated image filenames belonging to 8 classes.\n"
          ]
        },
        {
          "output_type": "stream",
          "name": "stderr",
          "text": [
            "/usr/local/lib/python3.10/dist-packages/keras/src/preprocessing/image.py:1137: UserWarning: Found 1 invalid image filename(s) in x_col=\"filename\". These filename(s) will be ignored.\n",
            "  warnings.warn(\n"
          ]
        },
        {
          "output_type": "stream",
          "name": "stdout",
          "text": [
            "Epoch 1/20\n",
            "23/23 [==============================] - 15s 552ms/step - loss: 4.3678 - accuracy: 0.2188 - val_loss: 1.5888 - val_accuracy: 0.3812\n",
            "Epoch 2/20\n",
            "23/23 [==============================] - 13s 579ms/step - loss: 1.7004 - accuracy: 0.3748 - val_loss: 1.3521 - val_accuracy: 0.5375\n",
            "Epoch 3/20\n",
            "23/23 [==============================] - 13s 541ms/step - loss: 1.5669 - accuracy: 0.4229 - val_loss: 1.2481 - val_accuracy: 0.5312\n",
            "Epoch 4/20\n",
            "23/23 [==============================] - 12s 524ms/step - loss: 1.5267 - accuracy: 0.4356 - val_loss: 1.0759 - val_accuracy: 0.6938\n",
            "Epoch 5/20\n",
            "23/23 [==============================] - 13s 556ms/step - loss: 1.4842 - accuracy: 0.4724 - val_loss: 1.0936 - val_accuracy: 0.6750\n",
            "Epoch 6/20\n",
            "23/23 [==============================] - 13s 581ms/step - loss: 1.3942 - accuracy: 0.4682 - val_loss: 1.0132 - val_accuracy: 0.6875\n",
            "Epoch 7/20\n",
            "23/23 [==============================] - 13s 579ms/step - loss: 1.2901 - accuracy: 0.5375 - val_loss: 0.9050 - val_accuracy: 0.6875\n",
            "Epoch 8/20\n",
            "23/23 [==============================] - 13s 572ms/step - loss: 1.2572 - accuracy: 0.5488 - val_loss: 0.8932 - val_accuracy: 0.6875\n",
            "Epoch 9/20\n",
            "23/23 [==============================] - 13s 574ms/step - loss: 1.1946 - accuracy: 0.5672 - val_loss: 0.8514 - val_accuracy: 0.7375\n",
            "Epoch 10/20\n",
            "23/23 [==============================] - 14s 589ms/step - loss: 1.1781 - accuracy: 0.5743 - val_loss: 0.8041 - val_accuracy: 0.7563\n",
            "Epoch 11/20\n",
            "23/23 [==============================] - 16s 690ms/step - loss: 1.1723 - accuracy: 0.5743 - val_loss: 0.8495 - val_accuracy: 0.7125\n",
            "Epoch 12/20\n",
            "23/23 [==============================] - 14s 605ms/step - loss: 1.1591 - accuracy: 0.5644 - val_loss: 0.8094 - val_accuracy: 0.7563\n",
            "Epoch 13/20\n",
            "23/23 [==============================] - 13s 563ms/step - loss: 1.1242 - accuracy: 0.5983 - val_loss: 0.6848 - val_accuracy: 0.7563\n",
            "Epoch 14/20\n",
            "23/23 [==============================] - 13s 579ms/step - loss: 1.0971 - accuracy: 0.5842 - val_loss: 0.7620 - val_accuracy: 0.7375\n",
            "Epoch 15/20\n",
            "23/23 [==============================] - 13s 550ms/step - loss: 1.0795 - accuracy: 0.6025 - val_loss: 0.8241 - val_accuracy: 0.6938\n",
            "Epoch 16/20\n",
            "23/23 [==============================] - 12s 529ms/step - loss: 1.1977 - accuracy: 0.5347 - val_loss: 0.6910 - val_accuracy: 0.7937\n",
            "Epoch 17/20\n",
            "23/23 [==============================] - 13s 568ms/step - loss: 1.1317 - accuracy: 0.5545 - val_loss: 0.7320 - val_accuracy: 0.7625\n",
            "Epoch 18/20\n",
            "23/23 [==============================] - 13s 572ms/step - loss: 1.1430 - accuracy: 0.5757 - val_loss: 0.7118 - val_accuracy: 0.7437\n",
            "Epoch 19/20\n",
            "23/23 [==============================] - 13s 573ms/step - loss: 0.9844 - accuracy: 0.6337 - val_loss: 0.6610 - val_accuracy: 0.7375\n",
            "Epoch 20/20\n",
            "23/23 [==============================] - 13s 577ms/step - loss: 1.0125 - accuracy: 0.6337 - val_loss: 0.6911 - val_accuracy: 0.7437\n",
            "6/6 [==============================] - 1s 141ms/step - loss: 0.6635 - accuracy: 0.7622\n",
            "Test Loss: 0.6635339856147766\n",
            "Test Accuracy: 0.7621621489524841\n"
          ]
        }
      ]
    },
    {
      "cell_type": "code",
      "source": [
        "import os\n",
        "import numpy as np\n",
        "import pandas as pd\n",
        "import tensorflow as tf\n",
        "from tensorflow.keras.preprocessing.image import ImageDataGenerator\n",
        "from tensorflow.keras.applications import VGG16\n",
        "from tensorflow.keras.models import Sequential\n",
        "from tensorflow.keras.layers import Conv2D, MaxPooling2D, Flatten, Dense, Dropout\n",
        "from tensorflow.keras.optimizers import Adam\n",
        "from tensorflow.keras.callbacks import ReduceLROnPlateau, EarlyStopping\n",
        "from sklearn.model_selection import train_test_split\n",
        "from sklearn.preprocessing import LabelBinarizer\n",
        "\n",
        "# Mount Google Drive to access the dataset\n",
        "from google.colab import drive\n",
        "drive.mount('/content/drive')\n",
        "\n",
        "# Define the directory containing your dataset\n",
        "dataset_dir = '/content/drive/My Drive/skin disease'\n",
        "\n",
        "# Define image dimensions and batch size\n",
        "img_width, img_height = 224, 224\n",
        "batch_size = 32\n",
        "\n",
        "# Create an ImageDataGenerator instance for data augmentation\n",
        "datagen = ImageDataGenerator(\n",
        "    rescale=1./255,\n",
        "    rotation_range=40,\n",
        "    width_shift_range=0.3,\n",
        "    height_shift_range=0.3,\n",
        "    shear_range=0.3,\n",
        "    zoom_range=0.3,\n",
        "    horizontal_flip=True,\n",
        ")\n",
        "\n",
        "# Get the list of all image file paths and their corresponding labels\n",
        "data = []\n",
        "labels = []\n",
        "for category in os.listdir(dataset_dir):\n",
        "    category_path = os.path.join(dataset_dir, category)\n",
        "    for img_file in os.listdir(category_path):\n",
        "        img_path = os.path.join(category_path, img_file)\n",
        "        data.append(img_path)\n",
        "        labels.append(category)\n",
        "\n",
        "# Convert to DataFrame\n",
        "df = pd.DataFrame({\n",
        "    'filename': data,\n",
        "    'class': labels\n",
        "})\n",
        "\n",
        "# Split the dataset into training and test sets\n",
        "train_df, test_df = train_test_split(df, test_size=0.2, random_state=42, stratify=df['class'])\n",
        "\n",
        "# Create data generators\n",
        "train_generator = datagen.flow_from_dataframe(\n",
        "    train_df,\n",
        "    x_col='filename',\n",
        "    y_col='class',\n",
        "    target_size=(img_width, img_height),\n",
        "    batch_size=batch_size,\n",
        "    class_mode='categorical'\n",
        ")\n",
        "\n",
        "test_datagen = ImageDataGenerator(rescale=1./255)\n",
        "test_generator = test_datagen.flow_from_dataframe(\n",
        "    test_df,\n",
        "    x_col='filename',\n",
        "    y_col='class',\n",
        "    target_size=(img_width, img_height),\n",
        "    batch_size=batch_size,\n",
        "    class_mode='categorical'\n",
        ")\n",
        "\n",
        "# Load the pre-trained VGG16 model without the top layers\n",
        "base_model = VGG16(weights='imagenet', include_top=False, input_shape=(img_width, img_height, 3))\n",
        "\n",
        "# Unfreeze some layers for fine-tuning\n",
        "for layer in base_model.layers[-4:]:  # Unfreeze the last 4 layers\n",
        "    layer.trainable = True\n",
        "\n",
        "# Create a new model on top of the pre-trained base model\n",
        "model = Sequential([\n",
        "    base_model,\n",
        "    Flatten(),\n",
        "    Dense(512, activation='relu'),\n",
        "    Dropout(0.5),\n",
        "    Dense(len(os.listdir(dataset_dir)), activation='softmax')\n",
        "])\n",
        "\n",
        "# Compile the model with a lower learning rate\n",
        "model.compile(optimizer=Adam(learning_rate=1e-4), loss='categorical_crossentropy', metrics=['accuracy'])\n",
        "\n",
        "# Callbacks for learning rate adjustment and early stopping\n",
        "reduce_lr = ReduceLROnPlateau(monitor='val_loss', factor=0.2, patience=3, min_lr=1e-6)\n",
        "early_stopping = EarlyStopping(monitor='val_loss', patience=5, restore_best_weights=True)\n",
        "\n",
        "# Train the model\n",
        "history = model.fit(\n",
        "    train_generator,\n",
        "    steps_per_epoch=train_generator.samples // batch_size,\n",
        "    epochs=20,\n",
        "    validation_data=test_generator,\n",
        "    validation_steps=test_generator.samples // batch_size,\n",
        "    callbacks=[reduce_lr, early_stopping]\n",
        ")\n",
        "\n",
        "# Evaluate the model on the test set\n",
        "test_loss, test_accuracy = model.evaluate(test_generator)\n",
        "print(\"Test Loss:\", test_loss)\n",
        "print(\"Test Accuracy:\", test_accuracy)\n"
      ],
      "metadata": {
        "colab": {
          "base_uri": "https://localhost:8080/"
        },
        "id": "-TzHgFz3UWTC",
        "outputId": "dca0e6d8-f092-4f52-df3c-ec10bbfd471d"
      },
      "execution_count": 23,
      "outputs": [
        {
          "output_type": "stream",
          "name": "stdout",
          "text": [
            "Drive already mounted at /content/drive; to attempt to forcibly remount, call drive.mount(\"/content/drive\", force_remount=True).\n",
            "Found 739 validated image filenames belonging to 8 classes.\n",
            "Found 185 validated image filenames belonging to 8 classes.\n"
          ]
        },
        {
          "output_type": "stream",
          "name": "stderr",
          "text": [
            "/usr/local/lib/python3.10/dist-packages/keras/src/preprocessing/image.py:1137: UserWarning: Found 1 invalid image filename(s) in x_col=\"filename\". These filename(s) will be ignored.\n",
            "  warnings.warn(\n"
          ]
        },
        {
          "output_type": "stream",
          "name": "stdout",
          "text": [
            "Epoch 1/20\n",
            "23/23 [==============================] - 37s 747ms/step - loss: 2.1675 - accuracy: 0.1570 - val_loss: 2.0113 - val_accuracy: 0.2062 - lr: 1.0000e-04\n",
            "Epoch 2/20\n",
            "23/23 [==============================] - 16s 685ms/step - loss: 1.9882 - accuracy: 0.2291 - val_loss: 1.7788 - val_accuracy: 0.3063 - lr: 1.0000e-04\n",
            "Epoch 3/20\n",
            "23/23 [==============================] - 17s 709ms/step - loss: 1.8454 - accuracy: 0.2673 - val_loss: 1.5478 - val_accuracy: 0.4062 - lr: 1.0000e-04\n",
            "Epoch 4/20\n",
            "23/23 [==============================] - 16s 684ms/step - loss: 1.6426 - accuracy: 0.3734 - val_loss: 1.7579 - val_accuracy: 0.4125 - lr: 1.0000e-04\n",
            "Epoch 5/20\n",
            "23/23 [==============================] - 16s 680ms/step - loss: 1.5575 - accuracy: 0.4031 - val_loss: 1.3108 - val_accuracy: 0.5437 - lr: 1.0000e-04\n",
            "Epoch 6/20\n",
            "23/23 [==============================] - 16s 688ms/step - loss: 1.3538 - accuracy: 0.4986 - val_loss: 1.0201 - val_accuracy: 0.6313 - lr: 1.0000e-04\n",
            "Epoch 7/20\n",
            "23/23 [==============================] - 16s 708ms/step - loss: 1.2270 - accuracy: 0.5318 - val_loss: 0.9818 - val_accuracy: 0.6812 - lr: 1.0000e-04\n",
            "Epoch 8/20\n",
            "23/23 [==============================] - 16s 676ms/step - loss: 1.1256 - accuracy: 0.5827 - val_loss: 0.8635 - val_accuracy: 0.6938 - lr: 1.0000e-04\n",
            "Epoch 9/20\n",
            "23/23 [==============================] - 16s 665ms/step - loss: 1.0980 - accuracy: 0.6124 - val_loss: 1.0592 - val_accuracy: 0.6187 - lr: 1.0000e-04\n",
            "Epoch 10/20\n",
            "23/23 [==============================] - 16s 677ms/step - loss: 1.0124 - accuracy: 0.6436 - val_loss: 0.7924 - val_accuracy: 0.7437 - lr: 1.0000e-04\n",
            "Epoch 11/20\n",
            "23/23 [==============================] - 16s 666ms/step - loss: 1.0423 - accuracy: 0.6365 - val_loss: 1.2679 - val_accuracy: 0.5938 - lr: 1.0000e-04\n",
            "Epoch 12/20\n",
            "23/23 [==============================] - 16s 689ms/step - loss: 1.0320 - accuracy: 0.6337 - val_loss: 0.8715 - val_accuracy: 0.6812 - lr: 1.0000e-04\n",
            "Epoch 13/20\n",
            "23/23 [==============================] - 15s 693ms/step - loss: 0.8425 - accuracy: 0.7058 - val_loss: 0.8080 - val_accuracy: 0.7375 - lr: 1.0000e-04\n",
            "Epoch 14/20\n",
            "23/23 [==============================] - 16s 676ms/step - loss: 0.6461 - accuracy: 0.7723 - val_loss: 0.5484 - val_accuracy: 0.8188 - lr: 2.0000e-05\n",
            "Epoch 15/20\n",
            "23/23 [==============================] - 17s 741ms/step - loss: 0.6031 - accuracy: 0.7751 - val_loss: 0.5232 - val_accuracy: 0.8438 - lr: 2.0000e-05\n",
            "Epoch 16/20\n",
            "23/23 [==============================] - 16s 668ms/step - loss: 0.5904 - accuracy: 0.7977 - val_loss: 0.4230 - val_accuracy: 0.8562 - lr: 2.0000e-05\n",
            "Epoch 17/20\n",
            "23/23 [==============================] - 16s 689ms/step - loss: 0.6062 - accuracy: 0.7949 - val_loss: 0.5313 - val_accuracy: 0.8250 - lr: 2.0000e-05\n",
            "Epoch 18/20\n",
            "23/23 [==============================] - 16s 671ms/step - loss: 0.5402 - accuracy: 0.8133 - val_loss: 0.4652 - val_accuracy: 0.8500 - lr: 2.0000e-05\n",
            "Epoch 19/20\n",
            "23/23 [==============================] - 15s 663ms/step - loss: 0.5112 - accuracy: 0.8133 - val_loss: 0.5433 - val_accuracy: 0.8062 - lr: 2.0000e-05\n",
            "Epoch 20/20\n",
            "23/23 [==============================] - 16s 681ms/step - loss: 0.5016 - accuracy: 0.8204 - val_loss: 0.3823 - val_accuracy: 0.8875 - lr: 4.0000e-06\n",
            "6/6 [==============================] - 1s 138ms/step - loss: 0.4302 - accuracy: 0.8703\n",
            "Test Loss: 0.43024441599845886\n",
            "Test Accuracy: 0.8702702522277832\n"
          ]
        }
      ]
    },
    {
      "cell_type": "code",
      "source": [
        "from tensorflow.keras.preprocessing.image import load_img, img_to_array\n",
        "import numpy as np\n",
        "\n",
        "# Load and preprocess the image\n",
        "def preprocess_image(image_path, img_width, img_height):\n",
        "    img = load_img(image_path, target_size=(img_width, img_height))\n",
        "    img_array = img_to_array(img)\n",
        "    img_array = np.expand_dims(img_array, axis=0)  # Add batch dimension\n",
        "    img_array /= 255.0  # Scale pixel values to [0, 1]\n",
        "    return img_array\n",
        "\n",
        "# Function to predict the disease from an image\n",
        "def predict_disease(image_path, model, class_indices):\n",
        "    # Preprocess the image\n",
        "    img_array = preprocess_image(image_path, img_width, img_height)\n",
        "\n",
        "    # Make a prediction\n",
        "    predictions = model.predict(img_array)\n",
        "\n",
        "    # Get the predicted class index\n",
        "    predicted_class_idx = np.argmax(predictions, axis=1)[0]\n",
        "\n",
        "    # Map the predicted class index to the disease name\n",
        "    class_labels = {v: k for k, v in class_indices.items()}\n",
        "    predicted_class = class_labels[predicted_class_idx]\n",
        "\n",
        "    return predicted_class\n",
        "\n",
        "# Example usage\n",
        "image_path = '/content/drive/MyDrive/test image 2.jpeg'  # Replace with the path to your image\n",
        "predicted_disease = predict_disease(image_path, model, train_generator.class_indices)\n",
        "print(\"Predicted disease:\", predicted_disease)\n"
      ],
      "metadata": {
        "colab": {
          "base_uri": "https://localhost:8080/"
        },
        "id": "AvdUjRNZX9y4",
        "outputId": "732290e3-73e4-45ea-9606-4f5ca9345df6"
      },
      "execution_count": 30,
      "outputs": [
        {
          "output_type": "stream",
          "name": "stdout",
          "text": [
            "1/1 [==============================] - 0s 28ms/step\n",
            "Predicted disease: PA-cutaneous-larva-migrans\n"
          ]
        }
      ]
    },
    {
      "cell_type": "code",
      "source": [],
      "metadata": {
        "id": "UWL57Z8PajJU"
      },
      "execution_count": null,
      "outputs": []
    }
  ],
  "metadata": {
    "colab": {
      "provenance": [],
      "gpuType": "T4",
      "mount_file_id": "1dzu3BFnk4LnLso6tISG_pNTi2-M181dx",
      "authorship_tag": "ABX9TyOE4qunGxjsknkzSv/IKF7T",
      "include_colab_link": true
    },
    "kernelspec": {
      "display_name": "Python 3",
      "name": "python3"
    },
    "language_info": {
      "name": "python"
    },
    "accelerator": "GPU"
  },
  "nbformat": 4,
  "nbformat_minor": 0
}